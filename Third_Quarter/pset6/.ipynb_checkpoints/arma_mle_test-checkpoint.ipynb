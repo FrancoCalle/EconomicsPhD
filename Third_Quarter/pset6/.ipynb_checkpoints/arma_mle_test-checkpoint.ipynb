{
 "cells": [
  {
   "cell_type": "markdown",
   "metadata": {},
   "source": [
    "# Testing the estimation procedure with fake data"
   ]
  },
  {
   "cell_type": "code",
   "execution_count": 1,
   "metadata": {},
   "outputs": [],
   "source": [
    "from arma_mle import mlePanelARMA\n",
    "from ar_mle import mlePanelAR\n",
    "import numpy as np\n",
    "import matplotlib.pyplot as plt"
   ]
  },
  {
   "cell_type": "markdown",
   "metadata": {},
   "source": [
    "## AR(1) Model:"
   ]
  },
  {
   "cell_type": "code",
   "execution_count": 2,
   "metadata": {},
   "outputs": [],
   "source": [
    "ar = mlePanelAR(N=200, T = 16, K = 3)"
   ]
  },
  {
   "cell_type": "markdown",
   "metadata": {},
   "source": [
    "Generate fake data and demean variables:"
   ]
  },
  {
   "cell_type": "code",
   "execution_count": 3,
   "metadata": {},
   "outputs": [],
   "source": [
    "# Test Model E.A:\n",
    "#----------------\n",
    "\n",
    "y, X = ar.generateFakeData()\n",
    "\n",
    "y_demean, xx_demean, YY_mean, XX_mean = ar.demeanVariables(y,X)\n",
    "\n"
   ]
  },
  {
   "cell_type": "markdown",
   "metadata": {},
   "source": [
    "Estimate:"
   ]
  },
  {
   "cell_type": "code",
   "execution_count": 4,
   "metadata": {},
   "outputs": [
    {
     "name": "stdout",
     "output_type": "stream",
     "text": [
      "Optimization terminated successfully.\n",
      "         Current function value: 1605.726458\n",
      "         Iterations: 1106\n",
      "         Function evaluations: 1874\n",
      "Parameters: [0.31737625 0.47728305 2.01320735 0.57515956 0.42935775]\n"
     ]
    }
   ],
   "source": [
    "# Model 1\n",
    "fun = lambda parameters: ar.objectiveFunction(y_demean,\n",
    "                                                xx_demean,\n",
    "                                                parameters,\n",
    "                                                ar.maximumLikelihood)\n",
    "\n",
    "aalpha0 = [0., 0., 0]\n",
    "bbeta0 = [.0]\n",
    "initial_parameters = np.array(aalpha0+bbeta0+[.4])\n",
    "\n",
    "\n",
    "result = ar.optimize(fun, initial_parameters)\n",
    "\n",
    "parameters_hat = result.x\n",
    "print('Parameters:', parameters_hat)"
   ]
  },
  {
   "cell_type": "markdown",
   "metadata": {},
   "source": [
    "## Plot estimated parameters against true ones"
   ]
  },
  {
   "cell_type": "code",
   "execution_count": 5,
   "metadata": {},
   "outputs": [
    {
     "data": {
      "image/png": "[encoded data removed]",
      "text/plain": [
       "<Figure size 432x288 with 1 Axes>"
      ]
     },
     "metadata": {
      "needs_background": "light"
     },
     "output_type": "display_data"
    }
   ],
   "source": [
    "plt.scatter(parameters_hat, ar.true_parameters[:5], color = 'maroon')\n",
    "plt.plot(np.linspace(-.5,2),np.linspace(-.5,2), color = 'gray', linewidth=2)\n",
    "plt.show()"
   ]
  },
  {
   "cell_type": "markdown",
   "metadata": {},
   "source": [
    "<!-- ## Cheff Kiss -->\n",
    "<!-- ![chefkiss](https://media.giphy.com/media/3o7aCWJavAgtBzLWrS/giphy.gif \"chefkiss\") -->"
   ]
  },
  {
   "cell_type": "markdown",
   "metadata": {},
   "source": [
    "## ARMA(1,1) Model"
   ]
  },
  {
   "cell_type": "markdown",
   "metadata": {},
   "source": [
    "Generate data and demean variables:"
   ]
  },
  {
   "cell_type": "code",
   "execution_count": 6,
   "metadata": {},
   "outputs": [],
   "source": [
    "arma = mlePanelARMA(N=200, T = 16, K = 3)"
   ]
  },
  {
   "cell_type": "code",
   "execution_count": 7,
   "metadata": {},
   "outputs": [],
   "source": [
    "# Test Model E.A:\n",
    "#----------------\n",
    "\n",
    "y, X = arma.generateFakeData()\n",
    "\n",
    "y_demean, xx_demean, YY_mean, XX_mean = arma.demeanVariables(y,X)"
   ]
  },
  {
   "cell_type": "markdown",
   "metadata": {},
   "source": [
    "Estimate Parameters:"
   ]
  },
  {
   "cell_type": "code",
   "execution_count": 8,
   "metadata": {},
   "outputs": [
    {
     "name": "stdout",
     "output_type": "stream",
     "text": [
      "Optimization terminated successfully.\n",
      "         Current function value: 1480.478273\n",
      "         Iterations: 1641\n",
      "         Function evaluations: 2597\n",
      "[0.31885746 0.48112843 2.01175746 0.46796003 0.04437934 0.41057515]\n"
     ]
    }
   ],
   "source": [
    "# Model 1\n",
    "fun = lambda parameters: arma.objectiveFunction(y_demean,\n",
    "                                                xx_demean,\n",
    "                                                parameters,\n",
    "                                                arma.maximumLikelihood)\n",
    "\n",
    "aalpha0 = [0, 0, 0]\n",
    "bbeta0 = [0]\n",
    "phi0 = [0]\n",
    "initial_parameters = np.array(aalpha0+bbeta0+phi0+[1.3])\n",
    "\n",
    "\n",
    "result = arma.optimize(fun, initial_parameters)\n",
    "\n",
    "parameters_hat = result.x\n",
    "print(parameters_hat)"
   ]
  },
  {
   "cell_type": "markdown",
   "metadata": {},
   "source": [
    "## Plot estimated parameters against true ones"
   ]
  },
  {
   "cell_type": "code",
   "execution_count": 9,
   "metadata": {},
   "outputs": [
    {
     "data": {
      "image/png": "[encoded data removed]",
      "text/plain": [
       "<Figure size 432x288 with 1 Axes>"
      ]
     },
     "metadata": {
      "needs_background": "light"
     },
     "output_type": "display_data"
    }
   ],
   "source": [
    "plt.scatter(parameters_hat, arma.true_parameters[:6], color = 'maroon')\n",
    "plt.plot(np.linspace(-1,2),np.linspace(-1,2), color = 'gray', linewidth=2)\n",
    "plt.show()"
   ]
  },
  {
   "cell_type": "markdown",
   "metadata": {},
   "source": [
    "<!-- ![Celeb](https://media.giphy.com/media/DhstvI3zZ598Nb1rFf/giphy.gif \"celeb\") -->\n"
   ]
  }
 ],
 "metadata": {
  "kernelspec": {
   "display_name": "Python 3",
   "language": "python",
   "name": "python3"
  },
  "language_info": {
   "codemirror_mode": {
    "name": "ipython",
    "version": 3
   },
   "file_extension": ".py",
   "mimetype": "text/x-python",
   "name": "python",
   "nbconvert_exporter": "python",
   "pygments_lexer": "ipython3",
   "version": "3.8.3"
  }
 },
 "nbformat": 4,
 "nbformat_minor": 4
}
