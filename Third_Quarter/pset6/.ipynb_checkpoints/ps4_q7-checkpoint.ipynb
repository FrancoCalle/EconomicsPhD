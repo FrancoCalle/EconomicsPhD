{
 "cells": [
  {
   "cell_type": "markdown",
   "metadata": {},
   "source": [
    "# Code for problem 7\n",
    "\n",
    "To access the class for the ARMA models visit: https://github.com/FrancoCalle/EconomicsPhD/tree/main/Third_Quarter/pset6\n",
    "\n",
    "Consider the panel problem set on earnings posted on Canvas. Compute the parameters of the following earnings dynamic models using the NLSY. $X_{it} \\perp U_{i't}$ at all t for all i, and $U_{it} \\perp U_{i't''}$ for all i, i' for t $t \\neq t'$\n",
    "In all cases, $E(\\epsilon_{it}) = 0$. $i = 1,...,I$; $t = 1, ...,  T$."
   ]
  },
  {
   "cell_type": "code",
   "execution_count": 1,
   "metadata": {},
   "outputs": [],
   "source": [
    "import pandas as pd\n",
    "import numpy as np\n",
    "import matplotlib.pyplot as plt\n",
    "from functools import reduce\n",
    "\n",
    "df_full = pd.read_stata('https://dl.dropboxusercontent.com/s/reqqx19nliefyw4/NLSY.dta')\n",
    "df_extract = pd.read_stata('https://dl.dropboxusercontent.com/s/v7dt5q45eysau9y/nlsy79_extract.dta')\n",
    "df_extract['male_raw'] = df_extract['male']\n",
    "df_extract['male'] = (df_extract['male_raw'] == 'MALE')\n",
    "\n",
    "df = df_full.copy()"
   ]
  },
  {
   "cell_type": "markdown",
   "metadata": {},
   "source": [
    "## Data Cleaning:"
   ]
  },
  {
   "cell_type": "code",
   "execution_count": 2,
   "metadata": {},
   "outputs": [
    {
     "name": "stderr",
     "output_type": "stream",
     "text": [
      "C:\\ProgramData\\Anaconda3\\lib\\site-packages\\pandas\\core\\series.py:679: RuntimeWarning: divide by zero encountered in log\n",
      "  result = getattr(ufunc, method)(*inputs, **kwargs)\n"
     ]
    }
   ],
   "source": [
    "## Data cleaning:\n",
    "##---------------\n",
    "df_educ = df_extract.groupby('id').apply(lambda df: df['yearseduc_age30'].mean())\n",
    "df_educ.name = 'yearseduc_age30'\n",
    "df = df.join(df_educ, on=['id'])\n",
    "\n",
    "# Drop Missings:\n",
    "df.dropna(\n",
    "    subset=[\n",
    "    'hrs_worked_pastyear',\n",
    "    'yearly_inc',\n",
    "    'nchld',\n",
    "    'marstat',\n",
    "    'yearseduc_age30',\n",
    "    'family_net_wealth'\n",
    "    ],\n",
    "    inplace=True\n",
    ")\n",
    "\n",
    "\n",
    "# Define number of children, capped at 5\n",
    "df['children_max5'] = df['nchld'].clip(upper=5)\n",
    "# Define marital status indicators\n",
    "df['marstat_2'] = (df['marstat'] == 2).astype(np.float64)\n",
    "df['marstat_3'] = (df['marstat'] == 3).astype(np.float64)\n",
    "# Define family net worth (in millions)\n",
    "df['family_net_wealth_millions'] = df['family_net_wealth'] / 1e6\n",
    "\n",
    "# Define people who worked as people who worked 100 or more hours (lower values\n",
    "# are possibly misresponses or otherwise edge cases) AND who earned more than $500\n",
    "# dollars (same rationale)\n",
    "\n",
    "df['worked'] = (df['hrs_worked_pastyear'] > 100.) & (df['yearly_inc'] > 500.)\n",
    "df['hourly_wage'] = (df['yearly_inc'] / (df['hrs_worked_pastyear'] + 1e-50)) *df['worked']\n",
    "df['ln_hourly_wage'] = np.log(df['hourly_wage'])\n",
    "df = df.loc[df['ln_hourly_wage']>-np.inf]\n",
    "\n",
    "# People are identified by id:\n",
    "df.sort_values('id').head()\n",
    "\n",
    "# Check how many obs are by year:\n",
    "df['year'].sort_values().value_counts()\n",
    "\n",
    "# Check observations by id:\n",
    "id_counts = (df['id'].value_counts()\n",
    "            .reset_index()\n",
    "            .rename(columns={'id': 'counts', 'index': 'id'})\n",
    "            .query('counts == 16')\n",
    "            .id\n",
    "            )\n",
    "\n",
    "\n",
    "nlsyBalancedDataFrame = df.loc[df['id'].isin(id_counts),:]\n",
    "\n",
    "# Add year and individual dummies for fixed effects (Dropped first):\n",
    "df_year_dummies = pd.get_dummies(\n",
    "    nlsyBalancedDataFrame['year'].astype(int), drop_first=True, prefix='year', dtype=np.float64\n",
    ")\n",
    "\n",
    "df_individual_dummies = pd.get_dummies(\n",
    "    nlsyBalancedDataFrame['id'].astype(int), drop_first=True, prefix='id', dtype=np.float64\n",
    ")\n",
    "\n",
    "year_dummy_columns = list(df_year_dummies.columns)[1:]\n",
    "individual_dummy_columns = list(df_individual_dummies.columns)\n",
    "\n",
    "# Sort data\n",
    "nlsyBalancedDataFrame = pd.concat([nlsyBalancedDataFrame, df_year_dummies, df_individual_dummies], axis=1).sort_values(by = ['id', 'year'])\n",
    "\n",
    "# Get lagged outcome and other covariates:\n",
    "lagedDataFrame = nlsyBalancedDataFrame[['id',\n",
    "                'year',\n",
    "                'ln_hourly_wage',\n",
    "                'age',\n",
    "                'yearseduc_age30',\n",
    "                'family_net_wealth_millions'\n",
    "                ]].rename(columns={'ln_hourly_wage':'ln_hourly_wage_lag',\n",
    "                'age':'age_lag',\n",
    "                'yearseduc_age30':'yearseduc_age30_lag',\n",
    "                'family_net_wealth_millions':'family_net_wealth_millions_lag'})\n",
    "\n",
    "lagedDataFrame['year'] = (lagedDataFrame['year'] + 1)\n",
    "\n",
    "#Obtain lagged variable:\n",
    "nlsyBalancedDataFrame = nlsyBalancedDataFrame.merge(lagedDataFrame, how = 'left', on=['id','year'])\n",
    "\n",
    "#Drop observations for first year\n",
    "nlsyBalancedDataFrame = nlsyBalancedDataFrame.dropna(subset=['ln_hourly_wage_lag'])\n",
    "\n",
    "nlsyBalancedDataFrame['constant'] = 1\n",
    "\n",
    "\n",
    "## Construct matrices for estimation:\n",
    "##----------------------------------\n",
    "marketWageDeterminants = [\n",
    "                        'constant', 'age', 'family_net_wealth_millions', #'yearseduc_age30',\n",
    "                        ]\n",
    "\n",
    "marketWageDeterminantsLag = [\n",
    "                        'age_lag','family_net_wealth_millions_lag',\n",
    "                        ]\n",
    "\n",
    "laggedDependentVariable = ['ln_hourly_wage_lag']\n",
    "\n",
    "dependentVariable = ['ln_hourly_wage']\n",
    "\n",
    "yLog = nlsyBalancedDataFrame[dependentVariable].values\n",
    "yLogLagged = nlsyBalancedDataFrame[laggedDependentVariable].values"
   ]
  },
  {
   "cell_type": "markdown",
   "metadata": {},
   "source": [
    "Arrange data to feed the AR and ARMA functions"
   ]
  },
  {
   "cell_type": "code",
   "execution_count": 3,
   "metadata": {},
   "outputs": [],
   "source": [
    "#Matrices are of N X T dimensions:\n",
    "y = (nlsyBalancedDataFrame\n",
    "    .sort_values(by=['id','year'])\n",
    "    .pivot_table(index = 'id',\n",
    "                    columns='year',\n",
    "                    values = dependentVariable)).values.T\n",
    "\n",
    "x1 = (nlsyBalancedDataFrame\n",
    "    .sort_values(by=['id','year'])\n",
    "    .pivot_table(index = 'id',\n",
    "                    columns='year',\n",
    "                    values = marketWageDeterminants[1])).values.T\n",
    "\n",
    "x2 = (nlsyBalancedDataFrame\n",
    "    .sort_values(by=['id','year'])\n",
    "    .pivot_table(index = 'id',\n",
    "                    columns='year',\n",
    "                    values = marketWageDeterminants[2])).values.T\n",
    "\n",
    "X = [x1, x2]"
   ]
  },
  {
   "cell_type": "markdown",
   "metadata": {},
   "source": [
    "### Part A: Fit model with fixed effects:\n",
    "\n",
    "$\\ln Y_{it} = \\alpha' X_{it} + \\beta \\ln Y_{i,t-1} + f_i + \\epsilon_{it}$\n",
    "\n",
    "We can modify this model to have Ln(Y) instead of Y.\n",
    "\n",
    "$\\ln Y_{it} = \\alpha' X_{it} + \\beta \\ln Y_{i,t-1} + f_i + \\epsilon_{it}$\n",
    "\n",
    "for all t and i. We can demean both the dependent and explanatory variables so that we can get rid of fixed effects. Denote them $\\overline{\\ln Y}_{i}$, $\\bar{X}_{i}$ and $\\bar{Y}_{i}$\n",
    "\n",
    "\\begin{align*}\n",
    "(\\ln Y_{it} - \\overline{\\ln Y}_{i}) = \\alpha' (X_{it} - \\bar{X}_i) + \\beta (\\ln Y_{i,t-1} - \\overline{\\ln Y}_{i}) + \\epsilon_{it}\n",
    "\\end{align*}\n"
   ]
  },
  {
   "cell_type": "code",
   "execution_count": 4,
   "metadata": {},
   "outputs": [],
   "source": [
    "from ar_mle import mlePanelAR\n",
    "from functools import reduce\n",
    "\n",
    "# Test Model E.A:\n",
    "ar = mlePanelAR()"
   ]
  },
  {
   "cell_type": "code",
   "execution_count": 5,
   "metadata": {},
   "outputs": [
    {
     "name": "stdout",
     "output_type": "stream",
     "text": [
      "Optimization terminated successfully.\n",
      "         Current function value: 1191.418496\n",
      "         Iterations: 330\n",
      "         Function evaluations: 651\n",
      "Parameters: [0.05729361 0.03444936 0.27854534 0.36149134]\n",
      "MSE: 0.13067598529132088\n"
     ]
    }
   ],
   "source": [
    "y_demean, xx_demean, YY_mean, XX_mean = ar.demeanVariables(y,X)\n",
    "\n",
    "initial_parameters =  np.ones(4)*.5\n",
    "\n",
    "fun = lambda parameters: ar.objectiveFunction(\n",
    "y_demean,\n",
    "xx_demean,\n",
    "parameters,\n",
    "ar.maximumLikelihood\n",
    ")\n",
    "\n",
    "# Optimize\n",
    "result = ar.optimize(fun, initial_parameters)\n",
    "\n",
    "#Retrieve Parameters\n",
    "parameters_hat_1A = result.x\n",
    "\n",
    "#Predict model using estimates:\n",
    "predictionError1A = ar.predict_model(y_demean, xx_demean, parameters_hat_1A).flatten()\n",
    "\n",
    "print('Parameters:', parameters_hat_1A)\n",
    "print('MSE:', np.mean(predictionError1A**2))"
   ]
  },
  {
   "cell_type": "markdown",
   "metadata": {},
   "source": [
    "### Part B: Fit model with $\\beta = 0$ and autorregressive error term:\n",
    "\n",
    "\\begin{align*}\n",
    "\\ln Y_{it} = \\alpha' X_{it} + \\rho \\ln Y_{i,t-1} - \\rho \\alpha' X_{it-1} + \\epsilon_{it} \n",
    "\\end{align*}\n",
    "\n"
   ]
  },
  {
   "cell_type": "code",
   "execution_count": 6,
   "metadata": {},
   "outputs": [
    {
     "name": "stdout",
     "output_type": "stream",
     "text": [
      "Optimization terminated successfully.\n",
      "         Current function value: 1173.733032\n",
      "         Iterations: 715\n",
      "         Function evaluations: 1248\n",
      "Parameters: [ 0.09489819  0.02015229  0.04113768 -0.04085347  0.29738176  0.35934371]\n",
      "MSE: 0.12912790648715922\n"
     ]
    }
   ],
   "source": [
    "initial_parameters =  np.ones(6)*.5\n",
    "initial_parameters[0] = parameters_hat_1A[0]\n",
    "initial_parameters[1] = parameters_hat_1A[1]\n",
    "initial_parameters[-1] = parameters_hat_1A[-1]\n",
    "\n",
    "fun = lambda parameters: ar.objectiveFunction(\n",
    "y_demean,\n",
    "xx_demean,\n",
    "parameters,\n",
    "ar.maximumLikelihoodModelB\n",
    ")\n",
    "\n",
    "result = ar.optimize(fun, initial_parameters)\n",
    "\n",
    "parameters_hat_1B = result.x\n",
    "\n",
    "predictionError1B = ar.predict_modelB(y_demean, xx_demean, parameters_hat_1B).flatten()\n",
    "\n",
    "print('Parameters:', parameters_hat_1B)\n",
    "print('MSE:', np.mean(predictionError1B**2))"
   ]
  },
  {
   "cell_type": "markdown",
   "metadata": {},
   "source": [
    "### Part C: Fit model with $\\beta = 1$ and autorregressive error term:\n",
    "\\begin{align*}\n",
    "\\Delta \\ln Y_{it} = \\alpha' X_{it} + \\rho \\ln Y_{i,t-1} - \\rho \\alpha' X_{it-1} + \\epsilon_{it} \n",
    "\\end{align*}\n"
   ]
  },
  {
   "cell_type": "code",
   "execution_count": 7,
   "metadata": {},
   "outputs": [
    {
     "name": "stdout",
     "output_type": "stream",
     "text": [
      "Optimization terminated successfully.\n",
      "         Current function value: 1173.733032\n",
      "         Iterations: 988\n",
      "         Function evaluations: 1649\n",
      "Parameters: [ 0.09489819  0.02015225  0.04113768 -0.04085351 -0.70261826  0.35934372]\n",
      "MSE: 0.12912790648715916\n"
     ]
    }
   ],
   "source": [
    "initial_parameters = parameters_hat_1B.copy()\n",
    "\n",
    "fun = lambda parameters: ar.objectiveFunction(\n",
    "y_demean,\n",
    "xx_demean,\n",
    "parameters,\n",
    "ar.maximumLikelihoodModelC\n",
    ")\n",
    "\n",
    "result = ar.optimize(fun, initial_parameters)\n",
    "\n",
    "parameters_hat_1C = result.x\n",
    "\n",
    "predictionError1C = ar.predict_modelC(y_demean, xx_demean, parameters_hat_1C).flatten()\n",
    "\n",
    "print('Parameters:', parameters_hat_1C)\n",
    "print('MSE:', np.mean(predictionError1C**2))"
   ]
  },
  {
   "cell_type": "markdown",
   "metadata": {},
   "source": [
    "### Part D: Fit model with $\\beta = 0$ and unit root error term :\n",
    "\\\n",
    "\\begin{align*}\n",
    "    \\ln Y_{it} &= \\alpha' X_{it} + U_{it} \\\\ \n",
    "    &= \\alpha' X_{it} +  U_{i,t-1} + \\epsilon_{it} \\\\\n",
    "     &= \\alpha' X_{it} +  (\\ln Y_{i,t-1} - \\alpha' X_{it-1}) + \\epsilon_{it} \\\\\n",
    "     &= \\alpha' X_{it} +  \\ln Y_{i,t-1} -  \\alpha' X_{it-1} + \\epsilon_{it} \\\\\n",
    "     \\implies \\Delta \\ln Y_{it} &= \\alpha' \\Delta \\ln X_{it} + \\epsilon_{it}\n",
    "\\end{align*}"
   ]
  },
  {
   "cell_type": "code",
   "execution_count": 8,
   "metadata": {},
   "outputs": [
    {
     "name": "stdout",
     "output_type": "stream",
     "text": [
      "Optimization terminated successfully.\n",
      "         Current function value: 1872.212127\n",
      "         Iterations: 232\n",
      "         Function evaluations: 503\n",
      "Parameters: [ 0.0924979  -0.00379407 -0.73433779  0.45469006]\n",
      "MSE: 0.2067430422913959\n"
     ]
    }
   ],
   "source": [
    "initial_parameters = parameters_hat_1C.copy()\n",
    "initial_parameters = np.append(initial_parameters[:2],initial_parameters[4:])\n",
    "\n",
    "fun = lambda parameters: ar.objectiveFunction(\n",
    "    y,\n",
    "    X,\n",
    "    parameters,\n",
    "    ar.maximumLikelihoodModelD\n",
    ")\n",
    "\n",
    "result = ar.optimize(fun, initial_parameters)\n",
    "\n",
    "parameters_hat_1D = result.x\n",
    "\n",
    "predictionError1D = ar.predict_modelD(y_demean, xx_demean, parameters_hat_1D).flatten()\n",
    "\n",
    "print('Parameters:', parameters_hat_1D)\n",
    "print('MSE:', np.mean(predictionError1D**2))"
   ]
  },
  {
   "cell_type": "markdown",
   "metadata": {},
   "source": [
    "## Now income shock $\\epsilon_{it}$ follows a MA(1) process:\n",
    "\n",
    "First, arrange data so we can estimate the new models.\n",
    "Also, load the mlePanelARMA package."
   ]
  },
  {
   "cell_type": "code",
   "execution_count": 20,
   "metadata": {},
   "outputs": [],
   "source": [
    "from arma_mle import mlePanelARMA\n",
    "\n",
    "# Test Model E.A:\n",
    "arma = mlePanelARMA()"
   ]
  },
  {
   "cell_type": "markdown",
   "metadata": {},
   "source": [
    "### Part E.A: Fit model A with MA(1).\n",
    "\n",
    "\\begin{align*}\n",
    "    \\ln Y_{it} = \\alpha'X_{it} + \\beta Y_{it-1} + f_i + \\epsilon_{it} - \\phi \\epsilon_{it-1}\n",
    "\\end{align*}"
   ]
  },
  {
   "cell_type": "code",
   "execution_count": 21,
   "metadata": {},
   "outputs": [
    {
     "name": "stdout",
     "output_type": "stream",
     "text": [
      "Optimization terminated successfully.\n",
      "         Current function value: 1190.987850\n",
      "         Iterations: 462\n",
      "         Function evaluations: 803\n",
      "Parameters: [0.05528268 0.03351843 0.30132434 0.0300132  0.36143889]\n",
      "MSE: 0.13063806957191704\n"
     ]
    }
   ],
   "source": [
    "y_demean, xx_demean, YY_mean, XX_mean = arma.demeanVariables(y,X)\n",
    "\n",
    "initial_parameters =  np.ones(5)*.5\n",
    "\n",
    "fun = lambda parameters: arma.objectiveFunction(\n",
    "y_demean,\n",
    "xx_demean,\n",
    "parameters,\n",
    "arma.maximumLikelihood\n",
    ")\n",
    "\n",
    "# Optimize\n",
    "result = arma.optimize(fun, initial_parameters)\n",
    "\n",
    "#Retrieve Parameters\n",
    "parameters_hat_A = result.x\n",
    "\n",
    "#Predict model using estimates:\n",
    "predictionErrorA = arma.predict_model(y_demean, xx_demean, parameters_hat_A).flatten()\n",
    "\n",
    "print('Parameters:', parameters_hat_A)\n",
    "print('MSE:', np.mean(predictionErrorA**2))"
   ]
  },
  {
   "cell_type": "markdown",
   "metadata": {},
   "source": [
    "### Part E.B: Fit model B with MA(1):\n",
    "\n",
    "\\begin{align*}\n",
    "    \\ln Y_{it} &= \\alpha'X_{it} + \\rho U_{i,t-1} + \\epsilon_{it} - \\phi  \\epsilon_{it-1} \\\\\n",
    "    &= \\alpha'X_{it} + \\rho (\\ln Y_{i t-1} - \\alpha'X_{it-1} - \\epsilon_{it-1} + \\phi  \\epsilon_{it-2}) + \\epsilon_{it} - \\phi  \\epsilon_{it-1}\\\\\n",
    "    &=  \\alpha'X_{it} + \\rho \\ln Y_{i t-1} - \\rho \\alpha'X_{it-1} - \\rho \\epsilon_{it-1} + \\rho \\phi  \\epsilon_{it-2} + \\epsilon_{it} - \\phi  \\epsilon_{it-1} \\\\\n",
    "    &=\\alpha'X_{it} + \\rho \\ln Y_{i t-1} - \\rho \\alpha'X_{it-1} + \\epsilon_{it} - (\\phi + \\rho)  \\epsilon_{it-1} +  \\rho \\phi  \\epsilon_{it-2}\n",
    "\\end{align*}\n"
   ]
  },
  {
   "cell_type": "code",
   "execution_count": 22,
   "metadata": {},
   "outputs": [
    {
     "name": "stdout",
     "output_type": "stream",
     "text": [
      "Optimization terminated successfully.\n",
      "         Current function value: 1007.849151\n",
      "         Iterations: 1895\n",
      "         Function evaluations: 2878\n",
      "Parameters: [ 0.1000917   0.01985855  0.05332089 -0.02129857  0.3499744   0.10186575\n",
      "  0.0044975   0.34880376]\n",
      "MSE: 0.12166406277971031\n"
     ]
    }
   ],
   "source": [
    "initial_parameters =  np.ones(8)*.5\n",
    "initial_parameters[0] = parameters_hat_A[0]\n",
    "initial_parameters[1] = parameters_hat_A[1]\n",
    "initial_parameters[-1] = parameters_hat_A[-1]\n",
    "\n",
    "fun = lambda parameters: arma.objectiveFunction(\n",
    "y_demean,\n",
    "xx_demean,\n",
    "parameters,\n",
    "arma.maximumLikelihoodModelB\n",
    ")\n",
    "\n",
    "result = arma.optimize(fun, initial_parameters)\n",
    "\n",
    "parameters_hat_B = result.x\n",
    "\n",
    "predictionErrorB = arma.predict_modelB(y_demean, xx_demean, parameters_hat_B).flatten()\n",
    "\n",
    "print('Parameters:', parameters_hat_B)\n",
    "print('MSE:', np.mean(predictionErrorB**2))"
   ]
  },
  {
   "cell_type": "markdown",
   "metadata": {},
   "source": [
    "### Part E.C: Fit model C with MA(1) :\n",
    "\n",
    "\\begin{align*}\n",
    "    \\Delta \\ln Y_{it} &= \\alpha'X_{it} + \\rho \\ln Y_{i t-1} - \\rho \\alpha'X_{it-1} + \\epsilon_{it} - (\\phi + \\rho)  \\epsilon_{it-1} +  \\rho \\phi  \\epsilon_{it-2}\n",
    "\\end{align*}\n"
   ]
  },
  {
   "cell_type": "code",
   "execution_count": 23,
   "metadata": {},
   "outputs": [
    {
     "name": "stdout",
     "output_type": "stream",
     "text": [
      "Optimization terminated successfully.\n",
      "         Current function value: 1007.849151\n",
      "         Iterations: 2566\n",
      "         Function evaluations: 3797\n",
      "Parameters: [ 0.1000917   0.01985851  0.05332089 -0.0212986  -0.65002557  0.10186579\n",
      "  0.00449753  0.34880376]\n",
      "MSE: 0.1216640627797103\n"
     ]
    }
   ],
   "source": [
    "initial_parameters = parameters_hat_B.copy()\n",
    "\n",
    "fun = lambda parameters: arma.objectiveFunction(\n",
    "y_demean,\n",
    "xx_demean,\n",
    "parameters,\n",
    "arma.maximumLikelihoodModelC\n",
    ")\n",
    "\n",
    "result = arma.optimize(fun, initial_parameters)\n",
    "\n",
    "parameters_hat_C = result.x\n",
    "\n",
    "predictionErrorC = arma.predict_modelC(y_demean, xx_demean, parameters_hat_C).flatten()\n",
    "\n",
    "print('Parameters:', parameters_hat_C)\n",
    "print('MSE:', np.mean(predictionErrorC**2))"
   ]
  },
  {
   "cell_type": "markdown",
   "metadata": {},
   "source": [
    "### Part E.D: Fit model D with MA(1):\n",
    "\n",
    "\\begin{align*}\n",
    "    \\ln Y_{it}  &=\\alpha' X_{it} + \\ln Y_{i t-1} - \\alpha'X_{it-1} + \\epsilon_{it} - (1 + \\phi)  \\epsilon_{it-1} +  \\phi  \\epsilon_{it-2} \\\\\n",
    "    \\implies \\Delta \\ln Y_{it}  &=\\alpha' \\Delta X_{it}  + \\epsilon_{it} - (1 + \\phi)  \\epsilon_{it-1} +  \\phi  \\epsilon_{it-2}   \n",
    "\\end{align*}"
   ]
  },
  {
   "cell_type": "code",
   "execution_count": 24,
   "metadata": {},
   "outputs": [
    {
     "name": "stdout",
     "output_type": "stream",
     "text": [
      "Optimization terminated successfully.\n",
      "         Current function value: 1413.424238\n",
      "         Iterations: 474\n",
      "         Function evaluations: 801\n",
      "Parameters: [ 0.08593939 -0.00615268  0.48340014 -0.054898    0.40410317]\n",
      "MSE: 0.1632993805820219\n"
     ]
    }
   ],
   "source": [
    "initial_parameters = parameters_hat_C.copy()\n",
    "initial_parameters = np.append(initial_parameters[:2],initial_parameters[5:])\n",
    "\n",
    "fun = lambda parameters: arma.objectiveFunction(\n",
    "    y,\n",
    "    X,\n",
    "    parameters,\n",
    "    arma.maximumLikelihoodModelD\n",
    ")\n",
    "\n",
    "result = arma.optimize(fun, initial_parameters)\n",
    "\n",
    "parameters_hat_D = result.x\n",
    "\n",
    "predictionErrorD = arma.predict_modelD(y_demean, xx_demean, parameters_hat_D).flatten()\n",
    "\n",
    "print('Parameters:', parameters_hat_D)\n",
    "print('MSE:', np.mean(predictionErrorD**2))"
   ]
  },
  {
   "cell_type": "markdown",
   "metadata": {},
   "source": [
    "### Compute Likelihood Ratios:\n",
    "\n",
    "The objective of this section is to learn which specification fits the data better. Recall that the likelihood ratio test is as follows:\n",
    "\n",
    "\\begin{align*}\n",
    "    LR = -2( \\ln \\mathcal(L(\\theta_A)) - \\ln \\mathcal(L(\\theta_0)) )\n",
    "\\end{align*}"
   ]
  },
  {
   "cell_type": "code",
   "execution_count": 25,
   "metadata": {},
   "outputs": [],
   "source": [
    "# Get all errors:\n",
    "predictionError1A = ar.predict_model(y_demean, xx_demean, parameters_hat_1A)[1:,:].flatten()\n",
    "predictionError1B = ar.predict_modelB(y_demean, xx_demean, parameters_hat_1B)[1:,:].flatten()\n",
    "predictionError1C = ar.predict_modelC(y_demean, xx_demean, parameters_hat_1C)[1:,:].flatten()\n",
    "predictionError1D = ar.predict_modelD(y_demean, xx_demean, parameters_hat_1D)[1:,:].flatten()\n",
    "\n",
    "predictionErrorList = [\n",
    "predictionError1A,\n",
    "predictionError1B,\n",
    "predictionError1C,\n",
    "predictionError1D,\n",
    "predictionErrorA,\n",
    "predictionErrorB,\n",
    "predictionErrorC,\n",
    "predictionErrorD\n",
    "]\n",
    "\n",
    "predictionErrorList = [\n",
    "parameters_hat_1A,\n",
    "parameters_hat_1B,\n",
    "parameters_hat_1C,\n",
    "parameters_hat_1D,\n",
    "parameters_hat_A,\n",
    "parameters_hat_B,\n",
    "parameters_hat_C,\n",
    "parameters_hat_D\n",
    "]\n",
    "\n",
    "nModels = len(predictionErrorList)\n",
    "ModelComparison = np.zeros((nModels,nModels))\n",
    "\n",
    "\n",
    "for ii in range(nModels):\n",
    "    for jj in range(nModels):\n",
    "        if ii != jj:\n",
    "            ModelComparison[ii,jj] = arma.computeLikelihoodRatio(\n",
    "                predictionErrorList[ii], \n",
    "                predictionErrorList[jj], \n",
    "                predictionErrorList[ii][-1], \n",
    "                predictionErrorList[jj][-1])\n"
   ]
  },
  {
   "cell_type": "code",
   "execution_count": 167,
   "metadata": {},
   "outputs": [
    {
     "name": "stdout",
     "output_type": "stream",
     "text": [
      "[[ 0.    -0.31   2.828  3.857 -0.093 -0.783  1.683  1.784]\n",
      " [ 0.31   0.     3.138  4.167  0.217 -0.473  1.993  2.094]\n",
      " [-2.828 -3.138  0.     1.029 -2.921 -3.612 -1.145 -1.044]\n",
      " [-3.857 -4.167 -1.029  0.    -3.949 -4.64  -2.174 -2.073]\n",
      " [ 0.093 -0.217  2.921  3.949  0.    -0.691  1.775  1.877]\n",
      " [ 0.783  0.473  3.612  4.64   0.691  0.     2.466  2.567]\n",
      " [-1.683 -1.993  1.145  2.174 -1.775 -2.466  0.     0.101]\n",
      " [-1.784 -2.094  1.044  2.073 -1.877 -2.567 -0.101  0.   ]]\n"
     ]
    }
   ],
   "source": [
    "print(np.around(ModelComparison,3)) # Positive LR ratio base model fits better\n",
    "pd.DataFrame(np.around(ModelComparison,3)).to_csv('LikelihoodRatioTest.csv')"
   ]
  },
  {
   "cell_type": "code",
   "execution_count": null,
   "metadata": {},
   "outputs": [],
   "source": [
    "(ModelComparison>=0).sum(1)\n",
    "# Model B with MA(1) defeats all other models"
   ]
  },
  {
   "cell_type": "markdown",
   "metadata": {},
   "source": [
    "## Trace out the implied dynamics of an exogenous unit change in $Y_{it-1}$ for each model."
   ]
  },
  {
   "cell_type": "code",
   "execution_count": 153,
   "metadata": {
    "scrolled": true
   },
   "outputs": [],
   "source": [
    "# Simple dynamics:\n",
    "\n",
    "def compute_dynamics(change, ar_parameter, T):\n",
    "    \n",
    "    dynamic = []\n",
    "    parameter_update = 1\n",
    "\n",
    "    for ii in range(T):\n",
    "        parameter_update =  parameter_update * ar_parameter\n",
    "        change += parameter_update*change\n",
    "        dynamic.append(change)\n",
    "    \n",
    "    return np.array(dynamic)\n",
    "\n",
    "\n",
    "def compute_dynamics_shocked(change, ar_parameter, shock, phi1, phi2, T):\n",
    "    \n",
    "    dynamic = []\n",
    "    parameter_update = 1\n",
    "\n",
    "    for tt in range(T):\n",
    "        parameter_update =  parameter_update * ar_parameter \n",
    "        change += parameter_update*change  - phi1 * shock[tt+1] + phi2 * shock[tt]\n",
    "        dynamic.append(change)\n",
    "    \n",
    "    return np.array(dynamic)\n"
   ]
  },
  {
   "cell_type": "code",
   "execution_count": 169,
   "metadata": {
    "scrolled": false
   },
   "outputs": [
    {
     "name": "stdout",
     "output_type": "stream",
     "text": [
      "[0.278545337093964, 0.29738175849436405, 0.2973817418302367, 0.301324343167326, 0.3499744029238435, 0.34997442779239707]\n"
     ]
    }
   ],
   "source": [
    "T = 6\n",
    "change = 1\n",
    "\n",
    "ar_component = [\n",
    "parameters_hat_1A[2],\n",
    "parameters_hat_1B[4],\n",
    "(1+parameters_hat_1C[4]),\n",
    "parameters_hat_A[2],\n",
    "parameters_hat_B[4],\n",
    "(1+parameters_hat_C[4]),\n",
    "]\n",
    "\n",
    "\n",
    "model_name = [\n",
    "'Model AR(1) A',\n",
    "'Model AR(1) B',\n",
    "'Model AR(1) C',\n",
    "'Model ARMA(1,1) A',\n",
    "'Model ARMA(1,1) B',\n",
    "'Model ARMA(1,1) C',\n",
    "]\n",
    "\n",
    "print(ar_component)"
   ]
  },
  {
   "cell_type": "code",
   "execution_count": 168,
   "metadata": {
    "scrolled": false
   },
   "outputs": [
    {
     "name": "stdout",
     "output_type": "stream",
     "text": [
      "An increase 1 pp in Y(t-1) increases an accumulated of 0.615 pp future income in approximately 5 years\n"
     ]
    },
    {
     "data": {
      "image/png": "[encoded data removed]",
      "text/plain": [
       "<Figure size 432x288 with 1 Axes>"
      ]
     },
     "metadata": {
      "needs_background": "light"
     },
     "output_type": "display_data"
    }
   ],
   "source": [
    "for rrho, name in zip(ar_component, model_name):\n",
    "    dynamic = compute_dynamics(change, rrho, T)\n",
    "    plt.plot(dynamic-1, label = name +': ' +  str(round(max(dynamic)-1,3)))\n",
    "    \n",
    "plt.xlim([-0.1, 5.1])\n",
    "plt.ylim([0.15, .7])\n",
    "plt.legend()\n",
    "plt.savefig('Income_dynamics_stationary_models.png')\n",
    "\n",
    "print('An increase 1 pp in Y(t-1) increases an accumulated of 0.615 pp future income in approximately 5 years')"
   ]
  },
  {
   "cell_type": "markdown",
   "metadata": {},
   "source": [
    "## Income dynamics including unobserved shocks (Model B with MA component):"
   ]
  },
  {
   "cell_type": "code",
   "execution_count": 156,
   "metadata": {},
   "outputs": [],
   "source": [
    "predictionError1B = ar.predict_modelB(y_demean, xx_demean, parameters_hat_1B)[1:,:]\n",
    "dynamicList = []\n",
    "for ii in range(predictionError1B.shape[1]):\n",
    "    dynamic =  compute_dynamics_shocked(change, \n",
    "                                        parameters_hat_B[4], \n",
    "                                        predictionError1B[:,ii],\n",
    "                                        parameters_hat_B[5], \n",
    "                                        parameters_hat_B[6],\n",
    "                                        11)\n",
    "\n",
    "    dynamicList.append(dynamic)\n",
    "    \n",
    "\n",
    "dynamicList = np.array(dynamicList)"
   ]
  },
  {
   "cell_type": "code",
   "execution_count": 166,
   "metadata": {
    "scrolled": false
   },
   "outputs": [
    {
     "data": {
      "image/png": "[encoded data removed]",
      "text/plain": [
       "<Figure size 432x288 with 1 Axes>"
      ]
     },
     "metadata": {
      "needs_background": "light"
     },
     "output_type": "display_data"
    }
   ],
   "source": [
    "for ii in range(5): plt.plot(dynamicList[ii*10:(ii+1)*20].mean(0) -1, label = str(ii))"
   ]
  },
  {
   "cell_type": "code",
   "execution_count": 174,
   "metadata": {},
   "outputs": [
    {
     "name": "stdout",
     "output_type": "stream",
     "text": [
      "[0.03001320410036725, (0.10186575196210666, 0.004497495869354055), (0.10186578670645652, 0.004497525958107975), (0.4834001439763316, -0.0548980023406485)]\n"
     ]
    }
   ],
   "source": [
    "print([\n",
    "parameters_hat_A[-2],\n",
    "(parameters_hat_B[-3],parameters_hat_B[-2]),\n",
    "(parameters_hat_C[-3],parameters_hat_C[-2]),\n",
    "(parameters_hat_D[-3],parameters_hat_D[-2]),\n",
    "])"
   ]
  },
  {
   "cell_type": "code",
   "execution_count": 172,
   "metadata": {},
   "outputs": [
    {
     "name": "stdout",
     "output_type": "stream",
     "text": [
      "[0.36149133632424263, 0.3593437098290835, 0.35934372245892193, 0.4546900635357474, 0.361438889718106, 0.3488037623478042, 0.3488037553325901, 0.40410317258796585]\n"
     ]
    }
   ],
   "source": [
    "sigmaList = [\n",
    "parameters_hat_1A[-1],\n",
    "parameters_hat_1B[-1],\n",
    "parameters_hat_1C[-1],\n",
    "parameters_hat_1D[-1],\n",
    "parameters_hat_A[-1],\n",
    "parameters_hat_B[-1],\n",
    "parameters_hat_C[-1],\n",
    "parameters_hat_D[-1]\n",
    "]\n",
    "print(sigmaList)"
   ]
  }
 ],
 "metadata": {
  "kernelspec": {
   "display_name": "Python 3",
   "language": "python",
   "name": "python3"
  },
  "language_info": {
   "codemirror_mode": {
    "name": "ipython",
    "version": 3
   },
   "file_extension": ".py",
   "mimetype": "text/x-python",
   "name": "python",
   "nbconvert_exporter": "python",
   "pygments_lexer": "ipython3",
   "version": "3.8.3"
  }
 },
 "nbformat": 4,
 "nbformat_minor": 4
}
