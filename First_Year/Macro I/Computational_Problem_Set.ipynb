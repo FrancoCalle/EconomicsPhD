{
 "cells": [
  {
   "cell_type": "code",
   "execution_count": 1,
   "metadata": {},
   "outputs": [],
   "source": [
    "import numpy as np #gives you useful array operations\n",
    "import matplotlib.pyplot as plt #this is for plotting\n",
    "from value_function_iteration import dynamicProgramingModule"
   ]
  },
  {
   "cell_type": "markdown",
   "metadata": {},
   "source": [
    "# 2. Coding value function iteration, and speeding up convergence\n",
    "\n",
    "For the remainder of the problem set use the following parameter values (unless stated otherwise):\n",
    "β = 0.99, z = 1, α = 0.3, and δ = 0.1. Also use a state space grid with a 500 points starting at 0.1\n",
    "going up to the effective upper bound, and use an error tolerance of e−5.\n",
    "\n",
    "\n",
    "## Write code that implements value function iteration. Use an initial guess of V0(k) = 0, ∀k.\n",
    "\n",
    "### (i) Report the number of times you had to iterate, a plot with only the final value function,\n",
    "and a plot with all the iterations.\n"
   ]
  },
  {
   "cell_type": "code",
   "execution_count": 2,
   "metadata": {},
   "outputs": [],
   "source": [
    "# Define Grid:\n",
    "k_max = (1/0.1)**(1/(1-0.3))\n",
    "y = np.linspace(0.01,k_max,500) #state space\n",
    "V_0 = [0 for k in y] #Initial guess forall states\n",
    "V_old = np.copy(V_0)\n",
    "V_new = np.copy(V_0)\n",
    "policyFunction = np.zeros(V_old.shape)"
   ]
  },
  {
   "cell_type": "code",
   "execution_count": null,
   "metadata": {},
   "outputs": [],
   "source": [
    "bbeta = 0.99\n",
    "z = 1\n",
    "dpm = dynamicProgramingModule(bbeta, z)\n",
    "policyFunction, V_new, count = dpm.valueFunctionIteration(V_old,y)\n",
    "print('Number of iterations:', count)"
   ]
  },
  {
   "cell_type": "code",
   "execution_count": null,
   "metadata": {
    "scrolled": true
   },
   "outputs": [],
   "source": [
    "# Plot Value Function, Final iteration\n",
    "fig, ax2 = plt.subplots()\n",
    "ax2.plot(y , V_new, color=plt.cm.jet(count/500), linewidth=2.5)\n",
    "ax2.set_ylabel('value', fontsize=12)\n",
    "ax2.set_xlabel('Capital $k$', fontsize=12)\n",
    "ax2.set_title('Value function')\n",
    "plt.show()"
   ]
  },
  {
   "cell_type": "markdown",
   "metadata": {},
   "source": [
    "### (ii) Plot the policy rule g(k). Briefly explain what this says about the agents behaviour:"
   ]
  },
  {
   "cell_type": "code",
   "execution_count": null,
   "metadata": {},
   "outputs": [],
   "source": [
    "# Plot Policy Rule, Final iteration\n",
    "fig, ax3 = plt.subplots()\n",
    "ax3.plot(y , policyFunction, color=plt.cm.jet(count/500), linewidth=2.5)\n",
    "ax3.set_ylabel('Policy Function $y$', fontsize=12)\n",
    "ax3.set_xlabel('Capital $k$', fontsize=12)\n",
    "ax3.set_title('Value function iterations')\n",
    "plt.show()"
   ]
  },
  {
   "cell_type": "markdown",
   "metadata": {},
   "source": [
    "### (iii) Use the policy rule to numerically approximate the steady state level of capital and\n",
    "consumption, and compare this to the actual steady state of the model."
   ]
  },
  {
   "cell_type": "code",
   "execution_count": null,
   "metadata": {},
   "outputs": [],
   "source": [
    "#Steady State Numerical Approximation:\n",
    "\n",
    "# Start with k = k[1], then apply g(k) to get k' and then continue iteratively:\n",
    "k = y[0]\n",
    "error = 10\n",
    "k_transition = []\n",
    "\n",
    "count = 1\n",
    "while (error > 1e-5) & (count < 200):\n",
    "    k_new = policyFunction[k==y][0]\n",
    "    error = np.abs(k_new-k)\n",
    "    k_transition.append(k_new)\n",
    "    k = k_new\n",
    "    count += 1\n",
    "\n",
    "\n",
    "fig, ax4 = plt.subplots()\n",
    "ax4.plot(k_transition, color=plt.cm.jet(count/500), linewidth=2.5)\n",
    "ax4.set_ylabel('Policy Function $y$', fontsize=12)\n",
    "ax4.set_xlabel('Time', fontsize=12)\n",
    "ax4.set_title('Steady State')\n",
    "plt.show()"
   ]
  },
  {
   "cell_type": "code",
   "execution_count": null,
   "metadata": {},
   "outputs": [],
   "source": [
    "#Steady State approximation:\n",
    "k_ss_numerical = k_new\n",
    "c_ss_numerical = dpm.z*k**dpm.aalpha + (1-dpm.ddelta)*k_ss_numerical - k_ss_numerical\n",
    "print(\" Numerical Capital Steady State\", round(k_ss_numerical,3),\"\\n Numerical Consumption Steady State:\", round(c_ss_numerical,3))"
   ]
  },
  {
   "cell_type": "code",
   "execution_count": null,
   "metadata": {},
   "outputs": [],
   "source": [
    "steadyStateCapital, steadyStateConsumption = dpm.steadyStateVariables()\n",
    "print(\" Actual Capital Steady State\", round(steadyStateCapital,3),\"\\n Actual Consumption Steady State:\", round(steadyStateConsumption,3))"
   ]
  },
  {
   "cell_type": "markdown",
   "metadata": {},
   "source": [
    "### B: In part 1f we showed that β is the modulus of contraction.2 Therefore, if we reduce β we should get faster convergence. To see this, repeat part 2ai for β = 0.1 and comment on your findings."
   ]
  },
  {
   "cell_type": "code",
   "execution_count": null,
   "metadata": {
    "scrolled": false
   },
   "outputs": [],
   "source": [
    "#Evaluate with beta = 0.1\n",
    "dpm1 = dynamicProgramingModule(0.1, 1)\n",
    "policyFunction, V_new, count = dpm1.valueFunctionIteration(V_old,y)\n",
    "print('Number of iterations:', count)"
   ]
  },
  {
   "cell_type": "code",
   "execution_count": null,
   "metadata": {},
   "outputs": [],
   "source": [
    "# Plot latest value function:\n",
    "fig, ax2 = plt.subplots()\n",
    "ax2.plot(y , V_new, color=plt.cm.jet(count/500), linewidth=2.5)\n",
    "ax2.set_ylabel('value', fontsize=12)\n",
    "ax2.set_xlabel('Capital $k$', fontsize=12)\n",
    "ax2.set_title('Value function iterations')"
   ]
  },
  {
   "cell_type": "markdown",
   "metadata": {},
   "source": [
    "### C: As you can probably see from your plots of the iterations, our naive initial guess is quite far from the true value function. Therefore, lets try a better guess.\n",
    "\n",
    "\\begin{align}\n",
    "V_0(k) = \\frac{log(zk^\\alpha - \\delta k)}{1-\\beta}\n",
    "\\end{align}\n",
    "\n",
    "Repeat part 2ai for this guess and comment on your findings. I would recommend using this\n",
    "as the initial guess for the remainder of the problem set, it will make your life easier"
   ]
  },
  {
   "cell_type": "code",
   "execution_count": 3,
   "metadata": {},
   "outputs": [],
   "source": [
    "y = y[:-3].copy()"
   ]
  },
  {
   "cell_type": "code",
   "execution_count": 4,
   "metadata": {
    "scrolled": false
   },
   "outputs": [
    {
     "data": {
      "image/png": "[encoded data removed]",
      "text/plain": [
       "<Figure size 432x288 with 1 Axes>"
      ]
     },
     "metadata": {
      "needs_background": "light"
     },
     "output_type": "display_data"
    },
    {
     "name": "stdout",
     "output_type": "stream",
     "text": [
      "Number of iterations: 36\n"
     ]
    }
   ],
   "source": [
    "# Now let's use a new initial values for v0:\n",
    "dpm = dynamicProgramingModule(0.99, 1)\n",
    "V_old = dpm.smartInitialGuessV0(y)\n",
    "policyFunction, V_new, count = dpm.valueFunctionIteration(V_old,y)\n",
    "\n",
    "print(\"Number of iterations:\", count)"
   ]
  },
  {
   "cell_type": "code",
   "execution_count": 5,
   "metadata": {},
   "outputs": [
    {
     "data": {
      "image/png": "[encoded data removed]",
      "text/plain": [
       "<Figure size 432x288 with 1 Axes>"
      ]
     },
     "metadata": {
      "needs_background": "light"
     },
     "output_type": "display_data"
    }
   ],
   "source": [
    "fig, ax2 = plt.subplots()\n",
    "ax2.plot(y , V_new, color=plt.cm.jet(count/500), linewidth=2.5)\n",
    "ax2.set_ylabel('value', fontsize=12)\n",
    "ax2.set_xlabel('Capital $k$', fontsize=12)\n",
    "ax2.set_title('Value function')\n",
    "plt.show()"
   ]
  },
  {
   "cell_type": "markdown",
   "metadata": {},
   "source": [
    "# 3. Comparative statics the effect of permanent productivity shocks\n",
    "\n",
    "So far we have done a bunch of tedious mathematics and coding, but we are economists after all,\n",
    "so let’s now do some economics. In this section, we will use our machinery from the previous parts\n",
    "to study how our economy responds to a permanent productivity increase (an increase in z)"
   ]
  },
  {
   "cell_type": "code",
   "execution_count": null,
   "metadata": {
    "scrolled": true
   },
   "outputs": [],
   "source": [
    "dpm2 = dynamicProgramingModule(0.99, 1)\n",
    "V_old = dpm2.smartInitialGuessV0(y)\n",
    "policyFunctionZ1, V_new, count = dpm2.valueFunctionIteration(V_old,y)\n",
    "steadyStateCapitalZ1, steadyStateConsumptionZ1 = dpm2.steadyStateVariables()"
   ]
  },
  {
   "cell_type": "code",
   "execution_count": null,
   "metadata": {},
   "outputs": [],
   "source": [
    "fig, ax3 = plt.subplots()\n",
    "ax3.plot(y, policyFunctionZ1, color=plt.cm.jet(count/500), linewidth=2.5)\n",
    "ax3.set_ylabel('Policy Function $y$', fontsize=12)\n",
    "ax3.set_xlabel('Capital $k$', fontsize=12)\n",
    "ax3.set_title('Policy Function $z = 1$')\n",
    "plt.show()"
   ]
  },
  {
   "cell_type": "code",
   "execution_count": null,
   "metadata": {
    "scrolled": true
   },
   "outputs": [],
   "source": [
    "dpm3 = dynamicProgramingModule(0.99, 2)\n",
    "V_old = dpm3.smartInitialGuessV0(y)\n",
    "policyFunctionZ2, V_new, count = dpm3.valueFunctionIteration(V_old,y)"
   ]
  },
  {
   "cell_type": "code",
   "execution_count": null,
   "metadata": {},
   "outputs": [],
   "source": [
    "fig, ax3 = plt.subplots()\n",
    "ax3.plot(y , policyFunctionZ2, color=plt.cm.jet(count/500), linewidth=2.5)\n",
    "ax3.set_ylabel('Policy Function $y$', fontsize=12)\n",
    "ax3.set_xlabel('Capital $k$', fontsize=12)\n",
    "ax3.set_title('Policy Function $z = 2$')\n",
    "plt.show()"
   ]
  },
  {
   "cell_type": "code",
   "execution_count": null,
   "metadata": {},
   "outputs": [],
   "source": [
    "# Plot productivity shock simulation\n",
    "k = dpm3.find_nearest(y,steadyStateCapitalZ1)\n",
    "error = 10\n",
    "k_transition = [steadyStateCapitalZ1]*4\n",
    "\n",
    "for ii in range(29):\n",
    "    k_new = policyFunctionZ2[k==y][0]\n",
    "    error = np.abs(k_new-k)\n",
    "    k_transition.append(k_new)\n",
    "    k = k_new\n",
    "    count += 1"
   ]
  },
  {
   "cell_type": "code",
   "execution_count": null,
   "metadata": {},
   "outputs": [],
   "source": [
    "fig, ax4 = plt.subplots()\n",
    "ax4.plot(k_transition, color=plt.cm.jet(count/500), linewidth=2.5)\n",
    "ax4.set_ylabel('Capital $k$', fontsize=12)\n",
    "ax4.set_xlabel('Time', fontsize=12)\n",
    "ax4.set_title('Transition to Steady State')\n",
    "plt.show()"
   ]
  }
 ],
 "metadata": {
  "kernelspec": {
   "display_name": "Python 3",
   "language": "python",
   "name": "python3"
  },
  "language_info": {
   "codemirror_mode": {
    "name": "ipython",
    "version": 3
   },
   "file_extension": ".py",
   "mimetype": "text/x-python",
   "name": "python",
   "nbconvert_exporter": "python",
   "pygments_lexer": "ipython3",
   "version": "3.8.3"
  }
 },
 "nbformat": 4,
 "nbformat_minor": 4
}
