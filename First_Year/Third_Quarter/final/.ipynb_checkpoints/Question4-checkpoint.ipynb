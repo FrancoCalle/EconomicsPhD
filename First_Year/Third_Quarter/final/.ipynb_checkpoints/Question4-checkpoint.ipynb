{
 "cells": [
  {
   "cell_type": "markdown",
   "metadata": {},
   "source": [
    "# Question 4:"
   ]
  },
  {
   "cell_type": "markdown",
   "metadata": {},
   "source": [
    "### Data Cleaning:"
   ]
  },
  {
   "cell_type": "code",
   "execution_count": 1,
   "metadata": {},
   "outputs": [],
   "source": [
    "import numpy as np\n",
    "import pandas as pd\n",
    "import scipy\n",
    "import statsmodels as sm\n",
    "import matplotlib.pyplot as plt\n",
    "import statsmodels.formula.api as smf\n",
    "\n",
    "df_raw = pd.read_csv('https://dl.dropboxusercontent.com/s/9rp201wrk9m6qpb/data_final.csv',index_col=0)\n",
    "columns = list(df_raw.columns)\n",
    "\n",
    "df = df_raw[columns].copy()\n",
    "df['D'] = df['D'].astype(np.float64)\n",
    "\n",
    "\n",
    "\n",
    "k=11 # Treatment starts at 11\n",
    "df_past_11 = df[df['t'] > 11].copy()\n",
    "df_past_11.groupby('i')['D'].std().mean()\n",
    "\n",
    "# Generate binary variable indicating if belongs to control or treatment group:\n",
    "nObs = df[['D','i']].groupby('i').sum().shape[0]\n",
    "ntreat = df[['D','i']].groupby('i').sum().query('D>0').shape[0]\n",
    "shareTreat = ntreat/nObs\n",
    "idTreatedList= df[['D','i']].groupby('i').sum().query('D>0').index.tolist() # Get list of treated people\n",
    "\n",
    "# Add group tag:\n",
    "df['Group: T'] = df['i'].isin(idTreatedList).astype(int)\n",
    "\n",
    "# Define regression:\n",
    "def olsRegression(XX, Y):\n",
    "\n",
    "    bbeta = np.dot(np.linalg.inv(np.dot(XX.T,XX)), np.dot(XX.T,Y))\n",
    "\n",
    "    return bbeta\n",
    "\n",
    "# Get residual U:\n",
    "df['U'] = df[['Y']].values - np.matmul(df[['X1','X2']].values,olsRegression(df[['X1','X2']].values,df[['Y']].values))\n",
    "\n",
    "# Add Lagged data:\n",
    "#-----------------\n",
    "\n",
    "#First lag:\n",
    "dfLag = df.copy().rename(columns={'Y': 'Y_Lag', 'U':'U_Lag', 'X1':'X1_Lag', 'X2':'X2_Lag', 'D':'D_Lag'})\n",
    "dfLag['t'] = (dfLag['t'] + 1)\n",
    "\n",
    "#Obtain lagged variable:\n",
    "df = df.merge(dfLag[['Y_Lag','U_Lag','X1_Lag','X2_Lag','D_Lag','i','t']], how = 'left', on=['i','t'])\n",
    "\n",
    "#Second lag:\n",
    "dfLagLag = df.copy().rename(columns={'Y': 'Y_LagLag', 'U':'U_LagLag'})\n",
    "dfLagLag['t'] = (dfLagLag['t'] + 2)\n",
    "\n",
    "#Obtain lagged variable:\n",
    "df = df.merge(dfLagLag[['Y_LagLag','U_LagLag','i','t']], how = 'left', on=['i','t'])\n",
    "df['DeltaU'] = df['U'] - df['U_Lag']\n",
    "\n",
    "\n",
    "df['Delta_Y']   = df['Y']-df['Y_Lag']\n",
    "df['Delta_X1']  = df['X1']-df['X1_Lag']\n",
    "df['Delta_X2']  = df['X2']-df['X2_Lag']\n",
    "df['Delta_D']   = df['D']-df['D_Lag']\n",
    "\n",
    "df_new = (df[['X1','X2','D','X1_Lag',\n",
    "            'X2_Lag','D_Lag','Y','Y_Lag',\n",
    "            'Delta_X1','Delta_X2','Delta_Y',\n",
    "            'Delta_D','i','t','Group: T']]\n",
    "            .copy()\n",
    "            .dropna()\n",
    "            .query('`Group: T` == 1')\n",
    "            .query('t >= 1')\n",
    "            .query('t <= 30')\n",
    "            )"
   ]
  },
  {
   "cell_type": "code",
   "execution_count": 2,
   "metadata": {},
   "outputs": [],
   "source": [
    "def checkTrends(data):\n",
    "\n",
    "    meanOverTimeTreatmet = df.loc[df['Group: T']==1,:].groupby('t').mean().reset_index()[['Y','t']]\n",
    "    meanOverTimeControl = df.loc[df['Group: T']==0,:].groupby('t').mean().reset_index()[['Y','t']]\n",
    "    plt.plot(meanOverTimeTreatmet['t'],meanOverTimeTreatmet['Y'], label='Treatment')\n",
    "    plt.plot(meanOverTimeControl['t'],meanOverTimeControl['Y'], label='Control')\n",
    "    plt.legend()\n",
    "    plt.xlim([0, 20])\n",
    "    plt.show()"
   ]
  },
  {
   "cell_type": "markdown",
   "metadata": {},
   "source": [
    "### Difference in Differences Estimator"
   ]
  },
  {
   "cell_type": "code",
   "execution_count": 3,
   "metadata": {},
   "outputs": [],
   "source": [
    "def differenceDifferencesEstimator(depvar = 'DeltaU', k=11, w=1, data=df.copy()):\n",
    "\n",
    "    #This estimates α for Model (A):\n",
    "\n",
    "    dfGroup0 = data.loc[data['Group: T']==0,[depvar,'t']]\n",
    "    dfGroup1 = data.loc[data['Group: T']==1,[depvar,'t']]\n",
    "\n",
    "    #Means for control group\n",
    "    dfGroup0_pre = dfGroup0.loc[dfGroup0['t'].isin([k-w]),[depvar]].mean()[0]\n",
    "    dfGroup0_post = dfGroup0.loc[dfGroup0['t'].isin([k]),[depvar]].mean()[0]\n",
    "\n",
    "    #Means for treatment group\n",
    "    dfGroup1_pre = dfGroup1.loc[dfGroup1['t'].isin([k-w]),[depvar]].mean()[0]\n",
    "    dfGroup1_post = dfGroup1.loc[dfGroup1['t'].isin([k]),[depvar]].mean()[0]\n",
    "\n",
    "    alpha = (dfGroup1_post - dfGroup1_pre) - (dfGroup0_post - dfGroup0_pre)\n",
    "\n",
    "    print('Treatment Effect: ', alpha)\n",
    "\n",
    "    return alpha"
   ]
  },
  {
   "cell_type": "markdown",
   "metadata": {},
   "source": [
    "### IV Estimator"
   ]
  },
  {
   "cell_type": "code",
   "execution_count": 4,
   "metadata": {},
   "outputs": [],
   "source": [
    "def ivEstimator(depvar='Y', data = df.copy()):\n",
    "\n",
    "    df_new = data\n",
    "    df_new = df_new.loc[df_new['t']==11,:]\n",
    "    ZZ = df_new[['Z1','X1','X2']].values\n",
    "    XX = df_new[['X1','X2']].values\n",
    "    YY = df_new[[depvar]].values\n",
    "    Treatment= df_new[['D']].values\n",
    "\n",
    "    # Apply Chrchane Orcutt:\n",
    "    UU = YY-np.matmul(XX,olsRegression(XX,YY))\n",
    "\n",
    "    gamma = olsRegression(ZZ,Treatment)\n",
    "    THat= np.matmul(ZZ,gamma)\n",
    "\n",
    "    # Second stage estimation:\n",
    "    iv = olsRegression(THat,UU)\n",
    "\n",
    "    #Wald Estimator:\n",
    "    wald = iv/(THat.mean()*(1-THat.mean())).mean()\n",
    "\n",
    "    return wald, gamma, iv"
   ]
  },
  {
   "cell_type": "markdown",
   "metadata": {},
   "source": [
    "### Selection Bias Estimation"
   ]
  },
  {
   "cell_type": "code",
   "execution_count": 5,
   "metadata": {},
   "outputs": [],
   "source": [
    "def selectionBiasEstimator(depvar='Y',data=df.copy()):\n",
    "\n",
    "    df_new = df.copy()\n",
    "    df_new = df_new.loc[df['t']==11,:]\n",
    "\n",
    "    #Compute Probit:\n",
    "    propensity_model = smf.probit('D ~ Z1 + Z2', data=df_new).fit()\n",
    "    propensity_model.summary2()\n",
    "    df_new['P'] = propensity_model.predict(df_new)\n",
    "    df_new['P_icdf'] = scipy.stats.norm.ppf(df_new['P'])\n",
    "\n",
    "    # Estimate treatment effect in the limit:\n",
    "    df_low_prob = df_new.loc[df_new['P']<0.000001,:]\n",
    "    df_high_prob = df_new.loc[df_new['P']>1-0.000001,:]\n",
    "\n",
    "    # Compute OLS in both samples:\n",
    "    beta_hp = olsRegression(df_high_prob[['X1','X2']].values,df_high_prob[[depvar]].values)\n",
    "    beta_lp = olsRegression(df_low_prob[['X1','X2']].values,df_low_prob[[depvar]].values)\n",
    "\n",
    "    # Compute the differences between \\mu_1(X) and \\mu_2(X):\n",
    "    alpha = np.mean(np.matmul(df_new[['X1','X2']].values, beta_hp) - np.matmul(df_new[['X1','X2']].values,beta_lp))\n",
    "\n",
    "    return alpha"
   ]
  },
  {
   "cell_type": "markdown",
   "metadata": {},
   "source": [
    "### Balestra Nerlov Estimation"
   ]
  },
  {
   "cell_type": "code",
   "execution_count": 6,
   "metadata": {},
   "outputs": [],
   "source": [
    "\n",
    "def balestraNerloveEstimator(df1, depvar, zVariableList):\n",
    "\n",
    "    df_base = (df1.copy()\n",
    "                .dropna()\n",
    "                .query('t >= 1')\n",
    "                .query('t <= 20')\n",
    "                )\n",
    "\n",
    "    df = (df_base.copy()\n",
    "                .dropna()\n",
    "                .query('`Group: T` == 1')\n",
    "                )\n",
    "\n",
    "    xi_mean_list=[]\n",
    "    yi_mean_list=[]\n",
    "    alpha_1_list=[]\n",
    "    gamma_list = []\n",
    "    id_list = df.i.unique()\n",
    "\n",
    "    for ii in id_list:\n",
    "        df_i = df.query('i =='+str(ii))\n",
    "        xx_temp = df_i[zVariableList].values\n",
    "        y_temp = df_i[[depvar]].values\n",
    "        gamma = olsRegression(xx_temp, y_temp)\n",
    "        # Take Means:\n",
    "        xx_temp_mean = xx_temp.mean(0).reshape(xx_temp.shape[1],1)\n",
    "        y_temp_mean = y_temp.mean()\n",
    "        xi_mean_list.append(xx_temp_mean)\n",
    "        yi_mean_list.append(y_temp_mean)\n",
    "        # Obtain alpha_1\n",
    "        alpha_1 = y_temp_mean - np.matmul(gamma.T,xx_temp_mean)\n",
    "        gamma = gamma.reshape(len(gamma),).tolist()\n",
    "        alpha_1_list.append(alpha_1[0][0])\n",
    "        gamma_list.append(gamma)\n",
    "\n",
    "    gamma_hat = np.array(gamma_list).mean(0)\n",
    "    alpha_1 = np.array(alpha_1_list).mean()\n",
    "\n",
    "    #Compute sigma^2:\n",
    "    Y_flat = df[[depvar]].values\n",
    "    X_flat = df[zVariableList].values\n",
    "    uhat = (Y_flat - np.matmul(X_flat,\n",
    "                                gamma_hat.reshape(len(gamma_hat),1)\n",
    "                                ))\n",
    "    sigma_residual = (1/df.shape[0]) * np.sum(uhat**2)\n",
    "\n",
    "    #Compute sigma_u\n",
    "    sigma_mu_residual = 0\n",
    "    Nobs=len(xi_mean_list)\n",
    "    for ii in range(len(xi_mean_list)):\n",
    "        sigma_mu_residual += 1/Nobs * (yi_mean_list[ii] -\n",
    "        np.matmul(gamma_hat,xi_mean_list[ii].reshape(xi_mean_list[ii].shape[0],1))\n",
    "        - alpha_1)**2\n",
    "\n",
    "    rho = sigma_mu_residual[0]/sigma_residual\n",
    "\n",
    "    #Varepsilon and eta:\n",
    "    T = len(df.t.unique())\n",
    "    varepsilon = sigma_residual*((1-rho)+T*rho)\n",
    "    eta = sigma_residual*(1-rho)\n",
    "\n",
    "    Nobs = len(df_base['i'].unique())\n",
    "\n",
    "    # Construct Omega matrix:\n",
    "    C = np.eye(T)*eta\n",
    "    C[0,0] = varepsilon\n",
    "    I_n = np.eye(Nobs)\n",
    "    OOmega = np.kron(I_n,C)\n",
    "\n",
    "    Y_flat = df_base[[depvar]].values\n",
    "    X_flat = df_base[zVariableList].values\n",
    "\n",
    "    # Transform x's and y's to do gls estimation:\n",
    "\n",
    "    # Second Round Estimation:\n",
    "    OOmega_inv = np.linalg.inv(OOmega)\n",
    "\n",
    "    gammaGLS = np.dot(  np.linalg.inv(\n",
    "                        np.dot(\n",
    "                        np.dot(X_flat.T,OOmega_inv),\n",
    "                        X_flat\n",
    "                        )\n",
    "                        ),\n",
    "                        np.dot(\n",
    "                        np.dot(X_flat.T,OOmega_inv),\n",
    "                        Y_flat\n",
    "                        )\n",
    "                        )\n",
    "\n",
    "    # Compute residuals for the whole database:\n",
    "    Y_flat = df1[[depvar]].values\n",
    "    X_flat = df1[zVariableList].values\n",
    "\n",
    "    shocks = Y_flat - np.matmul(X_flat,gammaGLS)\n",
    "\n",
    "    return gammaGLS, shocks"
   ]
  },
  {
   "cell_type": "markdown",
   "metadata": {},
   "source": [
    "### First Check Common Trends Between Treatment and Control Group"
   ]
  },
  {
   "cell_type": "code",
   "execution_count": 7,
   "metadata": {},
   "outputs": [
    {
     "data": {
      "image/png": "[encoded data removed]",
      "text/plain": [
       "<Figure size 432x288 with 1 Axes>"
      ]
     },
     "metadata": {
      "needs_background": "light"
     },
     "output_type": "display_data"
    }
   ],
   "source": [
    "checkTrends(df)"
   ]
  },
  {
   "cell_type": "markdown",
   "metadata": {},
   "source": [
    "### Compute Estimation"
   ]
  },
  {
   "cell_type": "markdown",
   "metadata": {},
   "source": [
    "#### Model A:"
   ]
  },
  {
   "cell_type": "code",
   "execution_count": 8,
   "metadata": {},
   "outputs": [
    {
     "name": "stdout",
     "output_type": "stream",
     "text": [
      "Treatment Effect:  20.2266568845401\n",
      "Optimization terminated successfully.\n",
      "         Current function value: 0.216613\n",
      "         Iterations 8\n"
     ]
    }
   ],
   "source": [
    "# Model A:\n",
    "# DID\n",
    "alphaDIDA = differenceDifferencesEstimator('U',k,1, df)\n",
    "\n",
    "# IV: \n",
    "waldA, gamma, iv = ivEstimator('U',df)\n",
    "\n",
    "# Selection Bias:\n",
    "alphaA = selectionBiasEstimator('Y',df)\n",
    "\n",
    "\n",
    "# Balestra Nerlove:\n",
    "zVariableList = ['X1','X2','D','X1_Lag','X2_Lag','D_Lag','Y_Lag']\n",
    "gammaGLSA, shocks = balestraNerloveEstimator(df, 'Y', zVariableList)\n",
    "df['error_modelA'] = shocks"
   ]
  },
  {
   "cell_type": "markdown",
   "metadata": {},
   "source": [
    "#### Model B:"
   ]
  },
  {
   "cell_type": "code",
   "execution_count": 9,
   "metadata": {},
   "outputs": [
    {
     "name": "stdout",
     "output_type": "stream",
     "text": [
      "Treatment Effect:  20.315790866403216\n",
      "Optimization terminated successfully.\n",
      "         Current function value: 0.216613\n",
      "         Iterations 8\n"
     ]
    }
   ],
   "source": [
    "# Model B:\n",
    "\n",
    "# DID:\n",
    "alphaDIDB = differenceDifferencesEstimator('DeltaU',11,1, df)\n",
    "\n",
    "# IV:\n",
    "waldB, gamma, iv = ivEstimator('DeltaU',df)\n",
    "\n",
    "# Selection Bias:\n",
    "alphaB = selectionBiasEstimator('DeltaU',df)\n",
    "\n",
    "# Balestra Nerlove:\n",
    "zVariableList = ['Delta_X2','Delta_X1','Delta_D']\n",
    "gammaGLSB, shocks = balestraNerloveEstimator(df, 'Delta_Y', zVariableList)\n",
    "df['error_modelB'] = shocks"
   ]
  },
  {
   "cell_type": "markdown",
   "metadata": {},
   "source": [
    "### Cost Benefit Analysis:"
   ]
  },
  {
   "cell_type": "code",
   "execution_count": 10,
   "metadata": {},
   "outputs": [],
   "source": [
    "#Compile all estimators (This is Net Benefit):\n",
    "estimatorsA = {'DID': alphaDIDA,\n",
    "'SB': waldA[0][0],\n",
    "'IV': alphaA,\n",
    "'BN': gammaGLSA[2][0]\n",
    "}\n",
    "\n",
    "estimatorsB = {'DID': alphaDIDB,\n",
    "'SB': waldB[0][0],\n",
    "'IV': alphaA,\n",
    "'BN': gammaGLSB[-1][0]\n",
    "}"
   ]
  },
  {
   "cell_type": "code",
   "execution_count": 12,
   "metadata": {},
   "outputs": [],
   "source": [
    "# Benefit Analysis (I will always use the same residuals and value for discounting):\n",
    "rho = gammaGLSA[-1]\n",
    "r = ((1-rho)/rho)[0]\n",
    "\n",
    "\n",
    "# Error Composition 1:\n",
    "#---------------------\n",
    "\n",
    "data_pre_post = df.query('t==10 | t==11')\n",
    "\n",
    "# Estimate Net-Benefit:\n",
    "\n",
    "#Information Set 1: Full Information\n",
    "\n",
    "did_netbenefitA = estimatorsA['DID']/r\n",
    "sb_netbenefitA = estimatorsA['SB']/r\n",
    "iv_netbenefitA = estimatorsA['IV']/r\n",
    "bn_netbenefitA = estimatorsA['BN']/r\n",
    "\n",
    "#Information Set 2: Cost - Benefit (with Error)\n",
    "\n",
    "did_netbenefit_errorA = np.mean(did_netbenefitA - data_pre_post.query('t==10').error_modelA)\n",
    "sb_netbenefit_errorA = np.mean(sb_netbenefitA - data_pre_post.query('t==10').error_modelA)\n",
    "iv_netbenefit_errorA = np.mean(iv_netbenefitA - data_pre_post.query('t==10').error_modelA)\n",
    "bn_netbenefit_errorA = np.mean(bn_netbenefitA - data_pre_post.query('t==10').error_modelA)\n",
    "\n",
    "\n",
    "#Information Set 1: Full Information\n",
    "\n",
    "did_netbenefitB = estimatorsB['DID']/r\n",
    "sb_netbenefitB = estimatorsB['SB']/r\n",
    "iv_netbenefitB = estimatorsB['IV']/r\n",
    "bn_netbenefitB = estimatorsB['BN']/r\n",
    "\n",
    "\n",
    "#Information Set 2: Cost - Benefit (with Error)\n",
    "\n",
    "did_netbenefit_errorB = np.mean(did_netbenefitB - data_pre_post.query('t==10').error_modelB)\n",
    "sb_netbenefit_errorB = np.mean(sb_netbenefitB - data_pre_post.query('t==10').error_modelB)\n",
    "iv_netbenefit_errorB = np.mean(iv_netbenefitB - data_pre_post.query('t==10').error_modelB)\n",
    "bn_netbenefit_errorB = np.mean(bn_netbenefitB - data_pre_post.query('t==10').error_modelB)\n",
    "\n",
    "estimates = pd.DataFrame(data={\n",
    "'DID-A':np.array([estimatorsA['DID'], did_netbenefitA,did_netbenefit_errorA]),\n",
    "'SB-A':np.array([estimatorsA['SB'], sb_netbenefitA,sb_netbenefit_errorA]),\n",
    "'IV-A':np.array([estimatorsA['IV'], iv_netbenefitA,iv_netbenefit_errorA]),\n",
    "'BN-A':np.array([estimatorsA['BN'], bn_netbenefitA,bn_netbenefit_errorA]),\n",
    "'DID-B':np.array([estimatorsB['DID'], did_netbenefitB,did_netbenefit_errorB]),\n",
    "'SB-B':np.array([estimatorsB['SB'], sb_netbenefitB,sb_netbenefit_errorB]),\n",
    "'IV-B':np.array([estimatorsB['IV'], iv_netbenefitB,iv_netbenefit_errorB]),\n",
    "'BN-B':np.array([estimatorsB['BN'], bn_netbenefitB,bn_netbenefit_errorB])\n",
    "}\n",
    ")\n",
    "\n"
   ]
  },
  {
   "cell_type": "code",
   "execution_count": 13,
   "metadata": {},
   "outputs": [
    {
     "name": "stdout",
     "output_type": "stream",
     "text": [
      "                       DID-A       SB-A       IV-A       BN-A      DID-B  \\\n",
      "Coefficient        20.226657  20.945966  19.594377  20.113260  20.315791   \n",
      "Net Benefit        69.424500  71.893402  67.254309  69.035285  69.730437   \n",
      "Cost Benefit Unc.  69.429140  71.898043  67.258949  69.039925  69.735325   \n",
      "\n",
      "                        SB-B       IV-B       BN-B  \n",
      "Coefficient        21.217962  19.594377  20.132397  \n",
      "Net Benefit        72.826983  67.254309  69.100969  \n",
      "Cost Benefit Unc.  72.831872  67.259197  69.105858  \n"
     ]
    }
   ],
   "source": [
    "estimates.index = ['Coefficient', 'Net Benefit', 'Cost Benefit Unc.']\n",
    "print(estimates)"
   ]
  },
  {
   "cell_type": "markdown",
   "metadata": {},
   "source": [
    "### Plot cost benefit:"
   ]
  },
  {
   "cell_type": "code",
   "execution_count": 14,
   "metadata": {},
   "outputs": [
    {
     "data": {
      "image/png": "[encoded data removed]",
      "text/plain": [
       "<Figure size 432x288 with 1 Axes>"
      ]
     },
     "metadata": {
      "needs_background": "light"
     },
     "output_type": "display_data"
    }
   ],
   "source": [
    "data_pre_post_t10 = data_pre_post.query('t==10')\n",
    "plt.plot(bn_netbenefitA-data_pre_post_t10.sort_values(['error_modelA'])['error_modelA'].values, label='Model A')\n",
    "plt.plot(bn_netbenefitB-data_pre_post_t10.sort_values(['error_modelB'])['error_modelB'].values, label='Model B')\n",
    "plt.legend()\n",
    "plt.savefig('Individual_CostBenefit.png')"
   ]
  }
 ],
 "metadata": {
  "kernelspec": {
   "display_name": "Python 3",
   "language": "python",
   "name": "python3"
  },
  "language_info": {
   "codemirror_mode": {
    "name": "ipython",
    "version": 3
   },
   "file_extension": ".py",
   "mimetype": "text/x-python",
   "name": "python",
   "nbconvert_exporter": "python",
   "pygments_lexer": "ipython3",
   "version": "3.8.3"
  }
 },
 "nbformat": 4,
 "nbformat_minor": 4
}
